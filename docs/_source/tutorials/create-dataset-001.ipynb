{
    "cells": [
        {
            "cell_type": "markdown",
            "id": "fc0c600b",
            "metadata": {
                "papermill": {
                    "duration": 0.046655,
                    "end_time": "2023-11-15T10:59:17.308341",
                    "exception": false,
                    "start_time": "2023-11-15T10:59:17.261686",
                    "status": "completed"
                },
                "tags": []
            },
            "source": [
                "# Creating a `Dataset`\n",
                "\n",
                "This tutorial is part of a series in which we will get to know the `Dataset`. Before starting this tutorial, you need to do the tutorial on [configuring users and workspaces](./configure-users-and-workspaces-000.ipynb). In this step, we will show how to configure a `Dataset` and add `Records` to it.\n",
                "\n",
                "We will start by creating a basic dataset using the [ag_news](https://huggingface.co/datasets/ag_news) dataset as an example and push it to `Argilla` and the Hugging Face `hub`.\n"
            ]
        },
        {
            "cell_type": "markdown",
            "id": "566b7b82",
            "metadata": {
                "papermill": {
                    "duration": 0.007744,
                    "end_time": "2023-11-15T10:59:17.355040",
                    "exception": false,
                    "start_time": "2023-11-15T10:59:17.347296",
                    "status": "completed"
                },
                "tags": []
            },
            "source": [
                "## Running Argilla\n",
                "\n",
                "For this tutorial, you will need to have an Argilla server running. There are two main options for deploying and running Argilla:\n",
                "\n",
                "**Deploy Argilla on Hugging Face Spaces:** If you want to run tutorials with external notebooks (e.g., Google Colab) and you have an account on Hugging Face, you can deploy Argilla on Spaces with a few clicks:\n",
                "\n",
                "[![deploy on spaces](https://huggingface.co/datasets/huggingface/badges/raw/main/deploy-to-spaces-lg.svg)](https://huggingface.co/new-space?template=argilla/argilla-template-space)\n",
                "\n",
                "For details about configuring your deployment, check the [official Hugging Face Hub guide](https://huggingface.co/docs/hub/spaces-sdks-docker-argilla).\n",
                "\n",
                "**Launch Argilla using Argilla's quickstart Docker image**: This is the recommended option if you want [Argilla running on your local machine](../../../../getting_started/quickstart.md). Note that this option will only let you run the tutorial locally and not with an external notebook service.\n",
                "\n",
                "For more information on deployment options, please check the Deployment section of the documentation.\n",
                "\n",
                "<div class=\"alert alert-info\">\n",
                "\n",
                "Tip\n",
                "\n",
                "This tutorial is a Jupyter Notebook. There are two options to run it:\n",
                "\n",
                "- Use the Open in Colab button at the top of this page. This option allows you to run the notebook directly on Google Colab. Don't forget to change the runtime type to GPU for faster model training and inference.\n",
                "- Download the .ipynb file by clicking on the View source link at the top of the page. This option allows you to download the notebook and run it on your local machine or on a Jupyter notebook tool of your choice.\n",
                "</div>\n"
            ]
        },
        {
            "cell_type": "markdown",
            "metadata": {
                "papermill": {
                    "duration": 0.004557,
                    "end_time": "2023-11-15T10:59:17.364909",
                    "exception": false,
                    "start_time": "2023-11-15T10:59:17.360352",
                    "status": "completed"
                },
                "tags": []
            },
            "source": [
                "First let's install our dependencies and import the necessary libraries:\n"
            ]
        },
        {
            "cell_type": "code",
            "execution_count": null,
            "id": "bbbd3c38-1e3c-4d7f-97e6-22dd3b668fc8",
            "metadata": {
                "editable": true,
                "papermill": {
                    "duration": 3.857186,
                    "end_time": "2023-11-15T10:59:21.228277",
                    "exception": false,
                    "start_time": "2023-11-15T10:59:17.371091",
                    "status": "completed"
                },
                "slideshow": {
                    "slide_type": ""
                },
                "tags": []
            },
            "outputs": [],
            "source": [
                "!pip install \"argilla-python\"\n",
                "!pip install datasets"
            ]
        },
        {
            "cell_type": "code",
            "execution_count": 3,
            "id": "51b3b93c",
            "metadata": {
                "editable": true,
                "papermill": {
                    "duration": null,
                    "end_time": null,
                    "exception": null,
                    "start_time": null,
                    "status": "completed"
                },
                "slideshow": {
                    "slide_type": ""
                },
                "tags": []
            },
            "outputs": [
                {
                    "name": "stderr",
                    "output_type": "stream",
                    "text": [
                        "/home/ben/code/argilla-python/.venv/lib/python3.10/site-packages/tqdm/auto.py:21: TqdmWarning: IProgress not found. Please update jupyter and ipywidgets. See https://ipywidgets.readthedocs.io/en/stable/user_install.html\n",
                        "  from .autonotebook import tqdm as notebook_tqdm\n"
                    ]
                }
            ],
            "source": [
                "import argilla as rg\n",
                "from datasets import load_dataset"
            ]
        },
        {
            "cell_type": "markdown",
            "id": "3464037d-e21e-4db4-bfb4-e300fe4c9e53",
            "metadata": {},
            "source": [
                "Connect to argilla:\n"
            ]
        },
        {
            "cell_type": "code",
            "execution_count": 4,
            "id": "728e6af7",
            "metadata": {
                "editable": true,
                "papermill": {
                    "duration": null,
                    "end_time": null,
                    "exception": null,
                    "start_time": null,
                    "status": "completed"
                },
                "slideshow": {
                    "slide_type": ""
                },
                "tags": []
            },
            "outputs": [],
            "source": [
                "# papermill_description=logging-to-argilla\n",
                "client = Argilla()"
            ]
        },
        {
            "cell_type": "markdown",
            "id": "f50177aa-4c94-4b8f-8293-a3710e3cb0ca",
            "metadata": {
                "papermill": {
                    "duration": null,
                    "end_time": null,
                    "exception": null,
                    "start_time": null,
                    "status": "completed"
                },
                "tags": []
            },
            "source": [
                "## Configure a `Dataset`\n"
            ]
        },
        {
            "cell_type": "markdown",
            "id": "529f4e77-6c05-4d59-b153-170acee36b97",
            "metadata": {
                "papermill": {
                    "duration": null,
                    "end_time": null,
                    "exception": null,
                    "start_time": null,
                    "status": "completed"
                },
                "tags": []
            },
            "source": [
                "For this tutorial we will use the [ag_news](https://huggingface.co/datasets/ag_news) dataset which can be downloaded from the 🤗`hub`. We will load only the first 1000 items from the training sample.\n"
            ]
        },
        {
            "cell_type": "code",
            "execution_count": 5,
            "id": "8b01b473-a815-427c-986e-6c2bedf1b5d7",
            "metadata": {
                "editable": true,
                "papermill": {
                    "duration": null,
                    "end_time": null,
                    "exception": null,
                    "start_time": null,
                    "status": "completed"
                },
                "slideshow": {
                    "slide_type": ""
                },
                "tags": []
            },
            "outputs": [
                {
                    "name": "stderr",
                    "output_type": "stream",
                    "text": [
                        "Downloading data: 100%|██████████| 18.6M/18.6M [00:06<00:00, 3.09MB/s]\n",
                        "Downloading data: 100%|██████████| 1.23M/1.23M [00:00<00:00, 2.32MB/s]\n",
                        "Generating train split: 100%|██████████| 120000/120000 [00:00<00:00, 1338233.95 examples/s]\n",
                        "Generating test split: 100%|██████████| 7600/7600 [00:00<00:00, 1354093.30 examples/s]\n"
                    ]
                },
                {
                    "data": {
                        "text/plain": [
                            "Dataset({\n",
                            "    features: ['text', 'label'],\n",
                            "    num_rows: 1000\n",
                            "})"
                        ]
                    },
                    "execution_count": 5,
                    "metadata": {},
                    "output_type": "execute_result"
                }
            ],
            "source": [
                "ds = load_dataset(\"ag_news\", split=\"train[:1000]\")\n",
                "ds"
            ]
        },
        {
            "cell_type": "markdown",
            "id": "5b4eb4ff-9530-4542-9975-25d0f4f725c1",
            "metadata": {
                "papermill": {
                    "duration": null,
                    "end_time": null,
                    "exception": null,
                    "start_time": null,
                    "status": "completed"
                },
                "tags": []
            },
            "source": [
                "We will just load the first 1000 records for this tutorial, but feel free to test the full dataset.\n"
            ]
        },
        {
            "cell_type": "markdown",
            "id": "6d2e7997-62c6-49b3-9462-acd6143346a1",
            "metadata": {
                "papermill": {
                    "duration": null,
                    "end_time": null,
                    "exception": null,
                    "start_time": null,
                    "status": "completed"
                },
                "tags": []
            },
            "source": [
                "This dataset contains a collection of news articles (we can see the content in the `text` column), which have been asigned one of the following classification `labels`: _World (0), Sports (1), Business (2), Sci/Tech (3)_.\n",
                "\n",
                "Let's use the [task templates](https://docs.argilla.io/en/latest/practical_guides/create_update_dataset/create_dataset.html#task-templates) to create a feedback dataset ready for `text-classification`.\n"
            ]
        },
        {
            "cell_type": "code",
            "execution_count": null,
            "id": "7294b709",
            "metadata": {
                "editable": true,
                "papermill": {
                    "duration": null,
                    "end_time": null,
                    "exception": null,
                    "start_time": null,
                    "status": "completed"
                },
                "slideshow": {
                    "slide_type": ""
                },
                "tags": []
            },
            "outputs": [],
            "source": [
                "text_classification_dataset = rg.Dataset(\n",
                "    template=rg.Template.for_text_classification(\n",
                "        guidelines=\"Classify the articles into one of the four categories.\",\n",
                "        labels=[\"World\", \"Sports\", \"Business\", \"Sci/Tech\"],\n",
                "    )\n",
                ")\n",
                "text_classification_dataset.create()"
            ]
        },
        {
            "cell_type": "markdown",
            "id": "5a5238ea",
            "metadata": {
                "papermill": {
                    "duration": null,
                    "end_time": null,
                    "exception": null,
                    "start_time": null,
                    "status": "completed"
                },
                "tags": []
            },
            "source": [
                "We could compare this dataset with the custom configuration we would use previously (we can take a look at the [custom configuration](https://docs.argilla.io/en/latest/practical_guides/create_update_dataset/create_dataset.html#custom-configuration) for more information on the creation of a `Dataset` when we want a finer control):\n"
            ]
        },
        {
            "cell_type": "code",
            "execution_count": 8,
            "id": "f4823931-39a2-4942-ba83-894d62e0b7cc",
            "metadata": {
                "editable": true,
                "papermill": {
                    "duration": null,
                    "end_time": null,
                    "exception": null,
                    "start_time": null,
                    "status": "completed"
                },
                "slideshow": {
                    "slide_type": ""
                },
                "tags": []
            },
            "outputs": [
                {
                    "data": {
                        "text/plain": [
                            "FeedbackDataset(\n",
                            "   fields=[TextField(name='text', title='Text from the article', required=True, type='text', use_markdown=False)]\n",
                            "   questions=[LabelQuestion(name='label', title='In which category does this article fit?', description=None, required=True, type='label_selection', labels={'World': '0', 'Sports': '1', 'Business': '2', 'Sci/Tech': '3'}, visible_labels=None)]\n",
                            "   guidelines=Classify the articles into one of the four categories.)\n",
                            "   metadata_properties=[])\n",
                            ")"
                        ]
                    },
                    "execution_count": 8,
                    "metadata": {},
                    "output_type": "execute_result"
                }
            ],
            "source": [
                "custom_text_classification_template = rg.Template(\n",
                "    guidelines=\"Classify the articles into one of the four categories.\",\n",
                "    fields=[\n",
                "        rg.Field(name=\"text\", title=\"Text from the article\"),\n",
                "        rg.Field(name=\"context\", title=\"Context from the article\"),\n",
                "    ],\n",
                "    questions=[\n",
                "        rg.Question(\n",
                "            name=\"label\",\n",
                "            title=\"In which category does this article fit?\",\n",
                "            required=True,\n",
                "            settings=rg.QuestionSettings.MultiLabel(\n",
                "                options=rg.LabelOption.from_labels([\"World\", \"Sports\", \"Business\", \"Sci/Tech\"])\n",
                "            ),\n",
                "        )\n",
                "    ],\n",
                ")\n",
                "rg.Dataset(template=custom_text_classification_template)\n",
                "custom_text_classification_dataset.create()"
            ]
        },
        {
            "cell_type": "markdown",
            "id": "77ad10bc-d908-41ba-9a5c-c9cc9d56b67f",
            "metadata": {
                "papermill": {
                    "duration": null,
                    "end_time": null,
                    "exception": null,
                    "start_time": null,
                    "status": "completed"
                },
                "tags": []
            },
            "source": [
                "## Add `Records`\n",
                "\n",
                "### From a Hugging Face `dataset`\n"
            ]
        },
        {
            "cell_type": "markdown",
            "id": "9c194d68-6a87-4bc0-9d4e-f2afdb0561d9",
            "metadata": {
                "papermill": {
                    "duration": null,
                    "end_time": null,
                    "exception": null,
                    "start_time": null,
                    "status": "completed"
                },
                "tags": []
            },
            "source": [
                "The next step once we have our `Dataset` created is adding the FeedbackRecords to it.\n"
            ]
        },
        {
            "cell_type": "markdown",
            "id": "5110f19b-8bf2-4d48-8a1f-ffd89cfa20f5",
            "metadata": {
                "papermill": {
                    "duration": null,
                    "end_time": null,
                    "exception": null,
                    "start_time": null,
                    "status": "completed"
                },
                "tags": []
            },
            "source": [
                "In order to create our records we can just loop over the items in the `datasets.Dataset`.\n"
            ]
        },
        {
            "cell_type": "code",
            "execution_count": 9,
            "id": "825342c7-ef43-4747-8523-18f3e3fc6bd5",
            "metadata": {
                "editable": true,
                "papermill": {
                    "duration": null,
                    "end_time": null,
                    "exception": null,
                    "start_time": null,
                    "status": "completed"
                },
                "slideshow": {
                    "slide_type": ""
                },
                "tags": []
            },
            "outputs": [],
            "source": [
                "for i, item in enumerate(ds):\n",
                "    text_classification_dataset.records.add(\n",
                "        rg.Record(\n",
                "            fields={\n",
                "                \"text\": item[\"text\"],\n",
                "            },\n",
                "            external_id=f\"record-{i}\",\n",
                "        )\n",
                "    )\n",
                "\n",
                "# We can add an external_id to each record to identify it later."
            ]
        },
        {
            "cell_type": "markdown",
            "id": "3eb1ae7a-01f9-439b-87ac-6d0064164c80",
            "metadata": {
                "papermill": {
                    "duration": null,
                    "end_time": null,
                    "exception": null,
                    "start_time": null,
                    "status": "completed"
                },
                "tags": []
            },
            "source": [
                "### From a `pandas.DataFrame` <a class=\"anchor\" id=\"create-feedbackdataset-pandas\"></a>\n"
            ]
        },
        {
            "cell_type": "markdown",
            "id": "dba19b65-60d3-4507-aca6-1b4b9bc77d08",
            "metadata": {
                "papermill": {
                    "duration": null,
                    "end_time": null,
                    "exception": null,
                    "start_time": null,
                    "status": "completed"
                },
                "tags": []
            },
            "source": [
                "If we had our data in a different format, let's say a `csv` file, maybe it's more direct to read the data using pandas for that.\n",
                "\n",
                "We will transform our dataset to pandas format for this example, and the remaining `FeedbackRecord` creation remains just the same:\n"
            ]
        },
        {
            "cell_type": "code",
            "execution_count": 10,
            "id": "82beb35b-264f-491a-a6be-bd53f40fb509",
            "metadata": {
                "editable": true,
                "papermill": {
                    "duration": null,
                    "end_time": null,
                    "exception": null,
                    "start_time": null,
                    "status": "completed"
                },
                "slideshow": {
                    "slide_type": ""
                },
                "tags": []
            },
            "outputs": [
                {
                    "data": {
                        "text/html": [
                            "<div>\n",
                            "<style scoped>\n",
                            "    .dataframe tbody tr th:only-of-type {\n",
                            "        vertical-align: middle;\n",
                            "    }\n",
                            "\n",
                            "    .dataframe tbody tr th {\n",
                            "        vertical-align: top;\n",
                            "    }\n",
                            "\n",
                            "    .dataframe thead th {\n",
                            "        text-align: right;\n",
                            "    }\n",
                            "</style>\n",
                            "<table border=\"1\" class=\"dataframe\">\n",
                            "  <thead>\n",
                            "    <tr style=\"text-align: right;\">\n",
                            "      <th></th>\n",
                            "      <th>text</th>\n",
                            "      <th>label</th>\n",
                            "    </tr>\n",
                            "  </thead>\n",
                            "  <tbody>\n",
                            "    <tr>\n",
                            "      <th>0</th>\n",
                            "      <td>Wall St. Bears Claw Back Into the Black (Reute...</td>\n",
                            "      <td>2</td>\n",
                            "    </tr>\n",
                            "    <tr>\n",
                            "      <th>1</th>\n",
                            "      <td>Carlyle Looks Toward Commercial Aerospace (Reu...</td>\n",
                            "      <td>2</td>\n",
                            "    </tr>\n",
                            "    <tr>\n",
                            "      <th>2</th>\n",
                            "      <td>Oil and Economy Cloud Stocks' Outlook (Reuters...</td>\n",
                            "      <td>2</td>\n",
                            "    </tr>\n",
                            "    <tr>\n",
                            "      <th>3</th>\n",
                            "      <td>Iraq Halts Oil Exports from Main Southern Pipe...</td>\n",
                            "      <td>2</td>\n",
                            "    </tr>\n",
                            "    <tr>\n",
                            "      <th>4</th>\n",
                            "      <td>Oil prices soar to all-time record, posing new...</td>\n",
                            "      <td>2</td>\n",
                            "    </tr>\n",
                            "  </tbody>\n",
                            "</table>\n",
                            "</div>"
                        ],
                        "text/plain": [
                            "                                                text  label\n",
                            "0  Wall St. Bears Claw Back Into the Black (Reute...      2\n",
                            "1  Carlyle Looks Toward Commercial Aerospace (Reu...      2\n",
                            "2  Oil and Economy Cloud Stocks' Outlook (Reuters...      2\n",
                            "3  Iraq Halts Oil Exports from Main Southern Pipe...      2\n",
                            "4  Oil prices soar to all-time record, posing new...      2"
                        ]
                    },
                    "execution_count": 10,
                    "metadata": {},
                    "output_type": "execute_result"
                }
            ],
            "source": [
                "df_dataset = ds.to_pandas()\n",
                "df_dataset.head()"
            ]
        },
        {
            "cell_type": "markdown",
            "id": "dd3f1c38-3b56-46e8-8cac-7b3d21beb38d",
            "metadata": {
                "papermill": {
                    "duration": null,
                    "end_time": null,
                    "exception": null,
                    "start_time": null,
                    "status": "completed"
                },
                "tags": []
            },
            "source": [
                "Let's add our records to the dataset:\n"
            ]
        },
        {
            "cell_type": "code",
            "execution_count": null,
            "id": "7c7b33af-297c-44ab-981c-b62cf1406843",
            "metadata": {
                "papermill": {
                    "duration": null,
                    "end_time": null,
                    "exception": null,
                    "start_time": null,
                    "status": "completed"
                },
                "tags": []
            },
            "outputs": [],
            "source": [
                "for i, item in df_dataset.iterrows():\n",
                "    text_classification_dataset.records.add(\n",
                "        rg.Record(\n",
                "            fields={\n",
                "                \"text\": item[\"text\"],\n",
                "            },\n",
                "            external_id=f\"record-{i}\",\n",
                "        )\n",
                "    )\n",
                "\n",
                "# We can add an external_id to each record to identify it later."
            ]
        },
        {
            "cell_type": "markdown",
            "id": "b867eb5b-0b5a-42b1-88f2-f5b67519243e",
            "metadata": {
                "papermill": {
                    "duration": null,
                    "end_time": null,
                    "exception": null,
                    "start_time": null,
                    "status": "completed"
                },
                "tags": []
            },
            "source": [
                "## Publish our dataset to Argilla for Feedback"
            ]
        },
        {
            "cell_type": "code",
            "execution_count": 21,
            "id": "9bd0ec1c-1fcb-4d4f-a0a2-4f581a670e8b",
            "metadata": {
                "editable": true,
                "papermill": {
                    "duration": null,
                    "end_time": null,
                    "exception": null,
                    "start_time": null,
                    "status": "completed"
                },
                "slideshow": {
                    "slide_type": ""
                },
                "tags": []
            },
            "outputs": [],
            "source": [
                "text_classification_dataset.publish()"
            ]
        },
        {
            "cell_type": "markdown",
            "id": "16fe9266-7a03-4be6-8789-b141854bcdda",
            "metadata": {
                "papermill": {
                    "duration": null,
                    "end_time": null,
                    "exception": null,
                    "start_time": null,
                    "status": "completed"
                },
                "tags": []
            },
            "source": [
                "By now we have our dataset with the texts ready to be labeled, let's push it to `Argilla`.\n"
            ]
        },
        {
            "cell_type": "markdown",
            "id": "aff0f7fd-722f-4f92-912d-029b134848f3",
            "metadata": {
                "papermill": {
                    "duration": null,
                    "end_time": null,
                    "exception": null,
                    "start_time": null,
                    "status": "completed"
                },
                "tags": []
            },
            "source": [
                "If we go to our `Argilla` instance we should see a similar screen like the following.\n"
            ]
        },
        {
            "cell_type": "markdown",
            "id": "827fce93",
            "metadata": {
                "papermill": {
                    "duration": null,
                    "end_time": null,
                    "exception": null,
                    "start_time": null,
                    "status": "completed"
                },
                "tags": []
            },
            "source": [
                "![feedback-dataset](../../../../_static/tutorials/end2end/text-classification/feedback-dataset-text-classification-1.png)\n"
            ]
        },
        {
            "cell_type": "markdown",
            "id": "7d5f8704",
            "metadata": {},
            "source": [
                "# Download our dataset for use"
            ]
        },
        {
            "cell_type": "code",
            "execution_count": null,
            "id": "8f5581dc-8509-484e-ad4e-c73d15227cc9",
            "metadata": {
                "editable": true,
                "papermill": {
                    "duration": null,
                    "end_time": null,
                    "exception": null,
                    "start_time": null,
                    "status": "completed"
                },
                "slideshow": {
                    "slide_type": ""
                },
                "tags": []
            },
            "outputs": [],
            "source": [
                "dataset = text_classification_dataset.pull()\n",
                "# We can now convert to our favorite format\n",
                "\n",
                "df = dataset.to_pandas()\n",
                "ds = dataset.to_datasets()"
            ]
        },
        {
            "cell_type": "markdown",
            "id": "408cb3c9-c784-45c8-b206-058a23b801d8",
            "metadata": {
                "papermill": {
                    "duration": null,
                    "end_time": null,
                    "exception": null,
                    "start_time": null,
                    "status": "completed"
                },
                "tags": []
            },
            "source": [
                "## Conclusion\n"
            ]
        },
        {
            "cell_type": "markdown",
            "id": "6cdb1244-1589-4e85-be36-e0c959817c6d",
            "metadata": {
                "papermill": {
                    "duration": null,
                    "end_time": null,
                    "exception": null,
                    "start_time": null,
                    "status": "completed"
                },
                "tags": []
            },
            "source": [
                "In this tutorial we created an `Argilla` `FeedbackDataset` for text classification, starting from [ag_news](https://huggingface.co/datasets/ag_news).\n",
                "\n",
                "We created a `FeedbackDataset` for text classification with a `LabelQuestion`, from data stored as a `datasets.Dataset` and a `pandas.DataFrame`.\n",
                "This dataset was pushed both to `Argilla` where we can curate and label the records, and finally pushed it to the 🤗`hub`.\n",
                "\n",
                "To learn more about how to work with the `FeedbackDataset` check the [cheatsheet](https://docs.argilla.io/en/latest/getting_started/cheatsheet.html#cheatsheet). To continue with assigning records to annotators, you can refer to the [next tutorial](./assign-records-002.ipynb).\n"
            ]
        }
    ],
    "metadata": {
        "kernelspec": {
            "display_name": "Python 3 (ipykernel)",
            "language": "python",
            "name": "python3"
        },
        "language_info": {
            "codemirror_mode": {
                "name": "ipython",
                "version": 3
            },
            "file_extension": ".py",
            "mimetype": "text/x-python",
            "name": "python",
            "nbconvert_exporter": "python",
            "pygments_lexer": "ipython3",
            "version": "3.10.13"
        },
        "papermill": {
            "default_parameters": {},
            "duration": 5.95317,
            "end_time": "2023-11-15T10:59:21.949504",
            "environment_variables": {},
            "exception": null,
            "input_path": "/home/agustin/github_repos/argilla-io/argilla/docs/_source/practical_guides/examples/text_classification/text-classification-create-dataset.ipynb",
            "output_path": "/home/agustin/github_repos/argilla-io/argilla/docs/_source/practical_guides/examples/text_classification/text-classification-create-dataset.ipynb",
            "parameters": {},
            "start_time": "2023-11-15T10:59:15.996334",
            "version": "2.5.0"
        }
    },
    "nbformat": 4,
    "nbformat_minor": 5
}
