{
 "cells": [
  {
   "cell_type": "markdown",
   "metadata": {},
   "source": [
    "# End to end tutorial for using the ne Argilla SDK\n",
    "\n",
    "This tutorial encomposses the full workflow of using the Argilla SDK to manage human feedback tasks. The main three areas are:\n",
    "\n",
    "1. **Setting up a project**:\n",
    "   - **Connecting to an Argilla server**:\n",
    "   - **Creating a workspace**:\n",
    "   - **Creating users**:\n",
    "2. **Creating a dataset**:\n",
    "   - **Defining the dataset's feedback task**:\n",
    "   - **Adding records to the dataset**:\n",
    "3. **Labelling the dataset**:\n",
    "   - **Assigning records to users**:\n",
    "   - **Adding suggestions and responses**:\n",
    "\n",
    "We will work through each of these areas and show three depths of control: A line, B line, and C line. The A line is the simplest and most abstracted, the B line is a bit more detailed, and the C line is the most detailed and flexible.\n"
   ]
  },
  {
   "cell_type": "code",
   "execution_count": 1,
   "metadata": {},
   "outputs": [],
   "source": [
    "import argilla_sdk as rg"
   ]
  },
  {
   "cell_type": "markdown",
   "metadata": {},
   "source": [
    "# 1. Setting up a project\n",
    "\n",
    "- Connecting to an Argilla server\n",
    "- Creating a workspace\n",
    "- Creating users\n"
   ]
  },
  {
   "cell_type": "code",
   "execution_count": 2,
   "metadata": {},
   "outputs": [],
   "source": [
    "client = rg.Argilla(api_url=\"http://localhost:6900\", api_key=\"owner.apikey\")"
   ]
  },
  {
   "cell_type": "code",
   "execution_count": 3,
   "metadata": {},
   "outputs": [
    {
     "data": {
      "text/html": [
       "<h3>Workspaces</h3><table><tr><th>datasets</th><th>name</th><th>id</th><th>updated_at</th></tr><tr><td>685</td><td>admin</td><td>47a2ace0-a9b2-4dde-9710-0656646a3de3</td><td>2024-01-31T18:48:50.856584</td></tr><tr><td>1</td><td>new_ws</td><td>b4b7410c-7014-4ae4-a923-ec095d4a7272</td><td>2024-03-19T05:59:06.362275</td></tr><tr><td>0</td><td>end-to-end</td><td>e5bf1534-b89a-4245-9a30-99284710a1a9</td><td>2024-04-08T13:41:11.967896</td></tr></table>"
      ],
      "text/plain": [
       "<argilla_sdk.client.Workspaces at 0x72af05d39360>"
      ]
     },
     "execution_count": 3,
     "metadata": {},
     "output_type": "execute_result"
    }
   ],
   "source": [
    "client.workspaces"
   ]
  },
  {
   "cell_type": "code",
   "execution_count": 4,
   "metadata": {},
   "outputs": [],
   "source": [
    "ws = rg.Workspace(\"end-to-end\", client=client)"
   ]
  },
  {
   "cell_type": "code",
   "execution_count": 5,
   "metadata": {},
   "outputs": [
    {
     "name": "stdout",
     "output_type": "stream",
     "text": [
      "Workspace exists\n"
     ]
    }
   ],
   "source": [
    "try:\n",
    "    ws.create()\n",
    "except Exception as e:\n",
    "    print(\"Workspace exists\")"
   ]
  },
  {
   "cell_type": "code",
   "execution_count": 6,
   "metadata": {},
   "outputs": [
    {
     "name": "stdout",
     "output_type": "stream",
     "text": [
      "User exists\n"
     ]
    },
    {
     "data": {
      "text/html": [
       "<h3>Users</h3><table><tr><th>username</th><th>id</th><th>role</th><th>updated_at</th></tr><tr><td>owner</td><td>b1391ace-f089-4160-a26b-b17a966dc2b5</td><td>owner</td><td>2024-01-31T18:48:50.855527</td></tr><tr><td>admin</td><td>5bb2a532-36f6-4af8-b5b8-ad2fbba4b7d3</td><td>admin</td><td>2024-01-31T18:48:52.994136</td></tr><tr><td>argilla</td><td>d12eb6df-85fd-4902-a7cd-7d94ed3eee07</td><td>annotator</td><td>2024-01-31T18:48:55.167978</td></tr><tr><td>test_287</td><td>9edfc138-a359-469e-94f6-f49da5221d3c</td><td>annotator</td><td>2024-03-20T12:34:23.029706</td></tr><tr><td>test_285</td><td>d595cfdd-c963-4c72-a579-4e108ea50393</td><td>annotator</td><td>2024-03-20T12:35:09.385889</td></tr><tr><td>test_892</td><td>e266e491-7171-4d26-b1c7-03322814cc30</td><td>annotator</td><td>2024-03-20T12:35:24.789664</td></tr><tr><td>test_326</td><td>31783991-75bb-4bb8-a82f-e30196933698</td><td>annotator</td><td>2024-03-20T13:59:50.924672</td></tr><tr><td>test_144</td><td>8a8746ac-e710-400b-a36b-64938f01c751</td><td>annotator</td><td>2024-03-20T14:15:39.400628</td></tr><tr><td>test_483</td><td>fe958d9e-d9cb-485a-b331-99469a35d196</td><td>annotator</td><td>2024-03-20T14:16:23.643043</td></tr><tr><td>test_142</td><td>a219673e-adcf-430f-9451-d4bc5458c8a6</td><td>annotator</td><td>2024-03-20T19:14:21.523621</td></tr><tr><td>test_945</td><td>78a4efff-4376-4fd4-8ec3-d1aa41f4c99e</td><td>annotator</td><td>2024-03-20T19:18:13.354372</td></tr><tr><td>test_73</td><td>e6a369ca-38b5-4d6a-9902-49e93a914eaa</td><td>annotator</td><td>2024-03-20T19:18:21.153117</td></tr><tr><td>test_952</td><td>d7e54330-fd1b-42a9-a7fe-40910e9c4959</td><td>annotator</td><td>2024-03-20T19:26:55.466582</td></tr><tr><td>test_514</td><td>af283df7-872c-4d1a-af22-ee88a12499ce</td><td>annotator</td><td>2024-03-21T14:21:03.809902</td></tr><tr><td>test_393</td><td>5547ced3-9d08-4ea8-b408-1c2a6d1b4d46</td><td>annotator</td><td>2024-03-21T18:41:11.792830</td></tr><tr><td>test_266</td><td>06ca7265-edc4-4a54-b60a-c4a21faf4c85</td><td>annotator</td><td>2024-03-21T19:13:03.398686</td></tr><tr><td>test_249</td><td>56d3d1e3-aa9c-4dda-93ed-eaf68f7e7f08</td><td>annotator</td><td>2024-03-21T19:16:57.155102</td></tr><tr><td>test_114</td><td>0fc53d4b-4a28-494d-b640-25c58b951469</td><td>annotator</td><td>2024-03-21T19:19:52.547323</td></tr><tr><td>test_154</td><td>84e57bfa-ae7e-4a94-a2da-4ec35316ddc1</td><td>annotator</td><td>2024-03-21T19:27:32.996876</td></tr><tr><td>test_168</td><td>20a1e72f-f806-413c-96fe-9d2dc798701d</td><td>annotator</td><td>2024-03-22T11:32:57.661595</td></tr><tr><td>test_123</td><td>8292ee48-630e-4d3b-8c1f-1b073379aa8b</td><td>annotator</td><td>2024-03-22T11:39:48.406347</td></tr><tr><td>test_575</td><td>9fb95f83-76e6-421c-9b29-a945e2431b98</td><td>annotator</td><td>2024-03-22T12:07:04.994178</td></tr><tr><td>test_29</td><td>f3d66806-9bd0-4c13-86f2-5a2078b5a5f6</td><td>annotator</td><td>2024-03-22T12:08:23.070072</td></tr><tr><td>test_106</td><td>869090c1-dcd7-4d47-8912-2b9da553d9d8</td><td>annotator</td><td>2024-03-22T12:09:49.018138</td></tr><tr><td>test_290</td><td>2279ff46-cb7d-4bca-85ea-ca920f5bc1d2</td><td>annotator</td><td>2024-03-27T18:58:39.206050</td></tr><tr><td>test_135</td><td>3456ed26-53cb-434a-af56-695920f76eed</td><td>annotator</td><td>2024-03-27T19:00:13.899422</td></tr><tr><td>test_975</td><td>f9e40148-01eb-471d-b520-ba981fcc4ce3</td><td>annotator</td><td>2024-03-27T19:00:56.140563</td></tr><tr><td>test_800</td><td>abd33c36-58f2-4263-8303-1dbab4537078</td><td>annotator</td><td>2024-03-27T19:03:24.624514</td></tr><tr><td>test_69</td><td>c159eff1-acd5-49f4-8618-4b2216271fb1</td><td>annotator</td><td>2024-03-27T19:05:55.496420</td></tr><tr><td>test_636</td><td>922db0fe-0737-43e4-994e-a4885f70d129</td><td>annotator</td><td>2024-03-27T19:06:41.402097</td></tr><tr><td>test_99</td><td>5c3b1471-765c-49c1-a001-273e15084575</td><td>annotator</td><td>2024-03-27T19:06:48.118302</td></tr><tr><td>test_611</td><td>6d13e40d-21ab-44c0-b82e-8597d3268255</td><td>annotator</td><td>2024-03-27T19:07:17.874646</td></tr><tr><td>test_960</td><td>ef5c0d39-327e-494c-97e5-0df7012a2f81</td><td>annotator</td><td>2024-03-27T19:08:36.028068</td></tr><tr><td>test_1</td><td>6eb62375-9f7a-4f9c-afdf-f92acb9bab53</td><td>annotator</td><td>2024-03-27T19:11:34.302079</td></tr><tr><td>test_550</td><td>cc75b3b4-e269-4014-abbe-bfcec1ade3a2</td><td>annotator</td><td>2024-03-27T19:11:42.918875</td></tr><tr><td>test_125</td><td>c931119a-3a0c-4597-b366-f9d87770998b</td><td>annotator</td><td>2024-03-27T19:12:22.711550</td></tr><tr><td>test_360</td><td>30cd63c0-1bfb-46f8-8e4f-a507ed8ee1b1</td><td>annotator</td><td>2024-03-27T19:19:03.116842</td></tr><tr><td>test_342</td><td>5dc5e193-1a78-4090-a990-54978a050705</td><td>annotator</td><td>2024-03-27T19:19:29.372717</td></tr><tr><td>test_610</td><td>e8c87cfb-f8bf-4c00-a1c4-10202b8941f0</td><td>annotator</td><td>2024-03-27T19:20:30.569457</td></tr><tr><td>test_937</td><td>5e97963b-6fa5-448f-853a-2da705ffd566</td><td>annotator</td><td>2024-03-27T19:21:04.801494</td></tr><tr><td>test_241</td><td>70f786ec-b50c-4fb7-be7d-f7f15ff2cc0c</td><td>annotator</td><td>2024-03-27T19:21:39.424193</td></tr><tr><td>test_669</td><td>c406c51f-2e77-498f-a285-d0acfcd95f2f</td><td>annotator</td><td>2024-04-02T11:12:29.970278</td></tr><tr><td>test_293</td><td>933c8d88-b128-454f-b6fe-02e7a27d1b64</td><td>annotator</td><td>2024-04-04T13:39:42.761290</td></tr><tr><td>test_447</td><td>398cb1f5-4943-4c22-a0ed-21bbb755f22f</td><td>annotator</td><td>2024-04-04T13:40:38.941996</td></tr><tr><td>test_174</td><td>99d6d8fa-1c62-416c-bfb1-ee5048441153</td><td>annotator</td><td>2024-04-04T13:42:53.691254</td></tr><tr><td>test_561</td><td>4e1d47ff-f68e-4993-8a66-a67dc107a066</td><td>annotator</td><td>2024-04-04T13:45:04.041714</td></tr><tr><td>test_281</td><td>f826648a-1d7a-434e-9f66-be4a2ebfc207</td><td>annotator</td><td>2024-04-04T14:24:58.609722</td></tr><tr><td>test_206</td><td>e9907a89-2eed-4d92-97e4-2d44ab7dc17b</td><td>annotator</td><td>2024-04-04T14:25:24.989656</td></tr><tr><td>test_729</td><td>1589c58e-b2bb-4efc-911e-d3cba56c49f0</td><td>annotator</td><td>2024-04-04T14:25:31.992866</td></tr><tr><td>test_955</td><td>d32bc913-59d8-442a-a858-e15da6effd98</td><td>annotator</td><td>2024-04-04T14:25:47.252219</td></tr><tr><td>test_727</td><td>11a4d495-8438-4481-b560-6d050819c86c</td><td>annotator</td><td>2024-04-04T14:25:52.074291</td></tr><tr><td>test_424</td><td>434917b0-f0ac-44c6-9ce6-53cf04407896</td><td>annotator</td><td>2024-04-04T15:49:41.309716</td></tr><tr><td>test_587</td><td>5efeb4e1-f665-414e-b1af-c5442f211dfb</td><td>annotator</td><td>2024-04-04T15:49:46.586113</td></tr><tr><td>test_992</td><td>4d1dd249-5fc9-4766-a62b-76925e60e255</td><td>annotator</td><td>2024-04-04T18:37:45.082780</td></tr><tr><td>test_179</td><td>156f070f-f3a1-40c8-8968-434d43430f23</td><td>annotator</td><td>2024-04-04T18:38:06.553056</td></tr><tr><td>test_659</td><td>94a40936-6f8a-4574-a226-df1ae968f0f7</td><td>annotator</td><td>2024-04-04T18:49:32.556927</td></tr><tr><td>test_237</td><td>940aaa49-4567-4a50-acff-af057ecb5b85</td><td>annotator</td><td>2024-04-04T18:49:49.074943</td></tr><tr><td>test_677</td><td>1593d089-8a9a-4563-b310-6d0486f06406</td><td>annotator</td><td>2024-04-04T18:52:06.710349</td></tr><tr><td>test_993</td><td>080a8bf0-43dc-4975-a07e-9eb9edc896c8</td><td>annotator</td><td>2024-04-04T18:58:38.063562</td></tr><tr><td>test_43</td><td>2286f631-5efa-429b-83d5-9fac2ea4ff86</td><td>annotator</td><td>2024-04-04T18:58:51.419867</td></tr><tr><td>test_616</td><td>fd7ee679-26e4-4307-8e09-4f57aa0eab41</td><td>annotator</td><td>2024-04-04T18:58:57.609349</td></tr><tr><td>test_257</td><td>116a221e-ffb0-4bd3-bc04-299700981268</td><td>annotator</td><td>2024-04-04T18:59:35.414470</td></tr><tr><td>test_932</td><td>9b68065e-6e34-40ca-af53-c99ab71476b0</td><td>annotator</td><td>2024-04-04T19:03:30.814367</td></tr><tr><td>test_657</td><td>bd45ad34-d677-4ef4-8916-982fa638024c</td><td>annotator</td><td>2024-04-04T19:03:52.802483</td></tr><tr><td>test_533</td><td>9dccc665-ea78-410c-8234-62d02b252c0f</td><td>annotator</td><td>2024-04-04T19:04:14.097441</td></tr><tr><td>test_751</td><td>1cbd622d-3a0a-4720-ba2e-d030bcff4f0e</td><td>annotator</td><td>2024-04-04T19:05:02.080281</td></tr><tr><td>test_687</td><td>222316c8-b930-4e57-89b0-4cc94443961c</td><td>annotator</td><td>2024-04-04T19:05:18.507013</td></tr><tr><td>test_403</td><td>9684452b-205a-490b-82c7-48bd3b9edcc3</td><td>annotator</td><td>2024-04-04T19:05:43.261167</td></tr><tr><td>test_108</td><td>e4f6d193-6b04-4a34-bada-0d328741b380</td><td>annotator</td><td>2024-04-04T19:06:47.901541</td></tr><tr><td>test_856</td><td>c79fd9dd-5722-4bf2-badf-4ebba231660e</td><td>annotator</td><td>2024-04-04T19:06:58.779237</td></tr><tr><td>test_968</td><td>0ac4e009-b9c1-4cdc-9a55-2386ade9f075</td><td>annotator</td><td>2024-04-04T19:12:12.241252</td></tr><tr><td>test_276</td><td>1885cac0-c4a1-4f25-b977-417e5d4b9003</td><td>annotator</td><td>2024-04-04T19:12:38.588783</td></tr><tr><td>test_71</td><td>de9711e6-daa3-4606-bf5b-0a2f34e8fa95</td><td>annotator</td><td>2024-04-04T19:14:22.765406</td></tr><tr><td>test_25</td><td>bf589e2b-403b-4791-9010-dda790cc44af</td><td>annotator</td><td>2024-04-04T19:15:45.417558</td></tr><tr><td>test_161</td><td>735e3b3f-7d92-4560-87d8-ed6106d81016</td><td>annotator</td><td>2024-04-04T19:16:37.417584</td></tr><tr><td>test_797</td><td>65539bbc-6163-47e6-ab98-db974c1c0331</td><td>annotator</td><td>2024-04-04T19:30:41.882881</td></tr><tr><td>test_439</td><td>11e97570-677a-4059-bb1f-d4798bf122ce</td><td>annotator</td><td>2024-04-04T19:33:31.337092</td></tr><tr><td>test_739</td><td>dd09af00-1d73-4c7f-887e-a84df7a3ed9e</td><td>annotator</td><td>2024-04-04T19:33:56.785513</td></tr><tr><td>test_696</td><td>df7bb213-89fa-4359-836c-270bdb955d3b</td><td>annotator</td><td>2024-04-04T19:34:11.080076</td></tr><tr><td>test_17</td><td>f6bcb73c-d3bb-4bb3-a5cc-e3a947836971</td><td>annotator</td><td>2024-04-04T19:34:37.733065</td></tr><tr><td>test_511</td><td>8d326ba7-321a-4f1d-99b7-a547e9c550af</td><td>annotator</td><td>2024-04-04T19:34:39.263236</td></tr><tr><td>test_5</td><td>9b6cf325-ad82-4f1c-b4fe-e4c217224cc9</td><td>annotator</td><td>2024-04-04T19:34:50.127620</td></tr><tr><td>test_925</td><td>47e18f0b-a003-4f95-8bc4-18512316d256</td><td>annotator</td><td>2024-04-04T19:36:53.143458</td></tr><tr><td>test_547</td><td>a74cbb5f-8b3c-4677-a481-413aed47ae15</td><td>annotator</td><td>2024-04-08T11:33:23.934841</td></tr><tr><td>test_437</td><td>2bb2cb0b-b3ff-4061-b3ff-196df4e30e0e</td><td>annotator</td><td>2024-04-08T11:33:35.915822</td></tr><tr><td>test_935</td><td>d9ce5a09-f331-424c-9fe2-9e65daed1b60</td><td>annotator</td><td>2024-04-08T11:37:04.748166</td></tr><tr><td>test_220</td><td>2d74f34f-352e-4cef-b3b7-65f3ef62fac7</td><td>annotator</td><td>2024-04-08T11:37:37.741051</td></tr><tr><td>test_124</td><td>27614ee9-01f7-4a6d-82a0-419b3c6bf08d</td><td>annotator</td><td>2024-04-08T11:38:10.393645</td></tr><tr><td>test_867</td><td>4a65f8c3-07a7-4366-b413-d0b5f225cc16</td><td>annotator</td><td>2024-04-08T11:38:30.943774</td></tr><tr><td>test_479</td><td>a77ab028-eb76-48c4-af93-bf46a0bfb859</td><td>annotator</td><td>2024-04-08T11:40:16.197824</td></tr><tr><td>test_60</td><td>f418e852-fc92-4d63-939e-0f1cf19cc5e9</td><td>annotator</td><td>2024-04-08T11:41:07.608946</td></tr><tr><td>test_860</td><td>77a64073-d6af-47f9-87ad-c70976b5ba6f</td><td>annotator</td><td>2024-04-08T11:41:22.309640</td></tr><tr><td>test_827</td><td>59a5fe48-d873-4557-8325-b40e302193b6</td><td>annotator</td><td>2024-04-08T11:42:04.085216</td></tr><tr><td>test_131</td><td>80e35de9-33e5-430b-bbc7-b5ac3045e3f1</td><td>annotator</td><td>2024-04-08T11:42:26.562290</td></tr><tr><td>test_32</td><td>4ca8fa27-c5a7-4ae9-a9a5-4b38c5f9c868</td><td>annotator</td><td>2024-04-08T11:46:43.265749</td></tr><tr><td>test_14</td><td>96c36c47-eb8c-4ee9-b75d-547055b9f029</td><td>annotator</td><td>2024-04-08T11:46:45.148022</td></tr><tr><td>test_593</td><td>619335c4-e3d9-4dca-813f-91bc279643c1</td><td>annotator</td><td>2024-04-08T11:48:00.203625</td></tr><tr><td>test_279</td><td>bdc8593c-8234-4e92-98ca-fe44afe9e9da</td><td>annotator</td><td>2024-04-08T11:48:07.955508</td></tr><tr><td>test_641</td><td>5503b4e5-18c2-4779-afdd-a8c6b23d9b6c</td><td>annotator</td><td>2024-04-08T11:48:53.348458</td></tr><tr><td>test_494</td><td>aec6ea46-8381-47d9-a845-a2cd8e8ae08c</td><td>annotator</td><td>2024-04-08T11:49:06.861524</td></tr><tr><td>test_509</td><td>682c8707-9027-4ed4-afb1-a172d1278ac3</td><td>annotator</td><td>2024-04-08T11:51:17.865277</td></tr><tr><td>test_307</td><td>673d1305-757b-48c2-a14c-bd2af3ef82e5</td><td>annotator</td><td>2024-04-08T11:53:15.423413</td></tr><tr><td>test_335</td><td>9bca1ff2-5bbe-44d3-a612-b0269e5b7719</td><td>annotator</td><td>2024-04-08T12:00:07.329072</td></tr><tr><td>test_597</td><td>d02d8a0d-8420-4216-817e-8b9fea0ca462</td><td>annotator</td><td>2024-04-08T12:01:14.009420</td></tr><tr><td>test_502</td><td>2f6ecaa1-4ab4-49b3-8e54-e8f1a5e81402</td><td>annotator</td><td>2024-04-08T12:07:08.972529</td></tr><tr><td>test_632</td><td>36ea6b36-002b-4311-b88b-9940fee0f8e9</td><td>annotator</td><td>2024-04-08T12:11:27.382894</td></tr><tr><td>test_448</td><td>533bd1bd-c6f5-4402-bd7d-680bc3ae02b3</td><td>annotator</td><td>2024-04-08T12:12:46.837562</td></tr><tr><td>test_682</td><td>41db456e-a167-4513-9683-8128a66543bd</td><td>annotator</td><td>2024-04-08T12:18:43.737462</td></tr><tr><td>test_213</td><td>5d5bc24e-255a-401a-a827-1509a7870b23</td><td>annotator</td><td>2024-04-08T12:26:51.181591</td></tr><tr><td>test_599</td><td>1540b05d-272e-45a5-8f55-77ad779ff15a</td><td>annotator</td><td>2024-04-08T12:26:52.891258</td></tr><tr><td>end-user</td><td>2dc29c56-09a2-4b31-b172-843733286352</td><td>annotator</td><td>2024-04-09T12:00:44.982011</td></tr></table>"
      ],
      "text/plain": [
       "<argilla_sdk.client.Users at 0x72af05d39150>"
      ]
     },
     "execution_count": 6,
     "metadata": {},
     "output_type": "execute_result"
    }
   ],
   "source": [
    "user = rg.User(username=\"end-user\", password=\"password\", client=client)\n",
    "\n",
    "try:\n",
    "    ws.create()\n",
    "except Exception as e:\n",
    "    print(\"User exists\")\n",
    "\n",
    "client.users"
   ]
  },
  {
   "cell_type": "markdown",
   "metadata": {},
   "source": [
    "# 2. Creating a dataset\n",
    "\n",
    "- Defining the dataset's feedback task\n",
    "- Adding records to the dataset\n"
   ]
  },
  {
   "cell_type": "code",
   "execution_count": 7,
   "metadata": {},
   "outputs": [
    {
     "name": "stderr",
     "output_type": "stream",
     "text": [
      "/home/ben/code/argilla-python/.venv/lib/python3.10/site-packages/tqdm/auto.py:21: TqdmWarning: IProgress not found. Please update jupyter and ipywidgets. See https://ipywidgets.readthedocs.io/en/stable/user_install.html\n",
      "  from .autonotebook import tqdm as notebook_tqdm\n"
     ]
    },
    {
     "name": "stdout",
     "output_type": "stream",
     "text": [
      "[{'text': 'I rented I AM CURIOUS-YELLOW from my video store because of all the controversy that surrounded it when it was first released in 1967. I also heard that at first it was seized by U.S. customs if it ever tried to enter this country, therefore being a fan of films considered \"controversial\" I really had to see this for myself.<br /><br />The plot is centered around a young Swedish drama student named Lena who wants to learn everything she can about life. In particular she wants to focus her attentions to making some sort of documentary on what the average Swede thought about certain political issues such as the Vietnam War and race issues in the United States. In between asking politicians and ordinary denizens of Stockholm about their opinions on politics, she has sex with her drama teacher, classmates, and married men.<br /><br />What kills me about I AM CURIOUS-YELLOW is that 40 years ago, this was considered pornographic. Really, the sex and nudity scenes are few and far between, even then it\\'s not shot like some cheaply made porno. While my countrymen mind find it shocking, in reality sex and nudity are a major staple in Swedish cinema. Even Ingmar Bergman, arguably their answer to good old boy John Ford, had sex scenes in his films.<br /><br />I do commend the filmmakers for the fact that any sex shown in the film is shown for artistic purposes rather than just to shock people and make money to be shown in pornographic theaters in America. I AM CURIOUS-YELLOW is a good film for anyone wanting to study the meat and potatoes (no pun intended) of Swedish cinema. But really, this film doesn\\'t have much of a plot.', 'label': 'negative'}, {'text': '\"I Am Curious: Yellow\" is a risible and pretentious steaming pile. It doesn\\'t matter what one\\'s political views are because this film can hardly be taken seriously on any level. As for the claim that frontal male nudity is an automatic NC-17, that isn\\'t true. I\\'ve seen R-rated films with male nudity. Granted, they only offer some fleeting views, but where are the R-rated films with gaping vulvas and flapping labia? Nowhere, because they don\\'t exist. The same goes for those crappy cable shows: schlongs swinging in the breeze but not a clitoris in sight. And those pretentious indie movies like The Brown Bunny, in which we\\'re treated to the site of Vincent Gallo\\'s throbbing johnson, but not a trace of pink visible on Chloe Sevigny. Before crying (or implying) \"double-standard\" in matters of nudity, the mentally obtuse should take into account one unavoidably obvious anatomical difference between men and women: there are no genitals on display when actresses appears nude, and the same cannot be said for a man. In fact, you generally won\\'t see female genitals in an American film in anything short of porn or explicit erotica. This alleged double-standard is less a double standard than an admittedly depressing ability to come to terms culturally with the insides of women\\'s bodies.', 'label': 'negative'}, {'text': \"If only to avoid making this type of film in the future. This film is interesting as an experiment but tells no cogent story.<br /><br />One might feel virtuous for sitting thru it because it touches on so many IMPORTANT issues but it does so without any discernable motive. The viewer comes away with no new perspectives (unless one comes up with one while one's mind wanders, as it will invariably do during this pointless film).<br /><br />One might better spend one's time staring out a window at a tree growing.<br /><br />\", 'label': 'negative'}, {'text': \"This film was probably inspired by Godard's Masculin, féminin and I urge you to see that film instead.<br /><br />The film has two strong elements and those are, (1) the realistic acting (2) the impressive, undeservedly good, photo. Apart from that, what strikes me most is the endless stream of silliness. Lena Nyman has to be most annoying actress in the world. She acts so stupid and with all the nudity in this film,...it's unattractive. Comparing to Godard's film, intellectuality has been replaced with stupidity. Without going too far on this subject, I would say that follows from the difference in ideals between the French and the Swedish society.<br /><br />A movie of its time, and place. 2/10.\", 'label': 'negative'}, {'text': 'Oh, brother...after hearing about this ridiculous film for umpteen years all I can think of is that old Peggy Lee song..<br /><br />\"Is that all there is??\" ...I was just an early teen when this smoked fish hit the U.S. I was too young to get in the theater (although I did manage to sneak into \"Goodbye Columbus\"). Then a screening at a local film museum beckoned - Finally I could see this film, except now I was as old as my parents were when they schlepped to see it!!<br /><br />The ONLY reason this film was not condemned to the anonymous sands of time was because of the obscenity case sparked by its U.S. release. MILLIONS of people flocked to this stinker, thinking they were going to see a sex film...Instead, they got lots of closeups of gnarly, repulsive Swedes, on-street interviews in bland shopping malls, asinie political pretension...and feeble who-cares simulated sex scenes with saggy, pale actors.<br /><br />Cultural icon, holy grail, historic artifact..whatever this thing was, shred it, burn it, then stuff the ashes in a lead box!<br /><br />Elite esthetes still scrape to find value in its boring pseudo revolutionary political spewings..But if it weren\\'t for the censorship scandal, it would have been ignored, then forgotten.<br /><br />Instead, the \"I Am Blank, Blank\" rhythymed title was repeated endlessly for years as a titilation for porno films (I am Curious, Lavender - for gay films, I Am Curious, Black - for blaxploitation films, etc..) and every ten years or so the thing rises from the dead, to be viewed by a new generation of suckers who want to see that \"naughty sex film\" that \"revolutionized the film industry\"...<br /><br />Yeesh, avoid like the plague..Or if you MUST see it - rent the video and fast forward to the \"dirty\" parts, just to get it over with.<br /><br />', 'label': 'negative'}]\n"
     ]
    }
   ],
   "source": [
    "!pip install -qqq datasets\n",
    "\n",
    "from datasets import load_dataset\n",
    "\n",
    "ds = load_dataset(\"imdb\", split=\"train[:100]\").to_list()\n",
    "ds = [{\"text\": x[\"text\"], \"label\": \"positive\" if x[\"label\"] == 1 else \"negative\"} for x in ds]\n",
    "\n",
    "print(ds[:5])"
   ]
  },
  {
   "cell_type": "code",
   "execution_count": 8,
   "metadata": {},
   "outputs": [],
   "source": [
    "# Defining the dataset's feedback task\n",
    "settings = rg.Settings(\n",
    "    guidelines=\"Classify the articles into one of the four categories.\",\n",
    "    fields=[\n",
    "        rg.TextField(\n",
    "            name=\"text\",\n",
    "            title=\"Text from the article\",\n",
    "            use_markdown=False,\n",
    "        ),\n",
    "    ],\n",
    "    questions=[\n",
    "        rg.LabelQuestion(\n",
    "            name=\"label\",\n",
    "            title=\"In which category does this article fit?\",\n",
    "            labels=[\"positive\", \"negative\"],\n",
    "        )\n",
    "    ],\n",
    ")"
   ]
  },
  {
   "cell_type": "code",
   "execution_count": 11,
   "metadata": {},
   "outputs": [],
   "source": [
    "dataset = rg.Dataset(\n",
    "    name=\"IMDB-dataset-8\",\n",
    "    workspace_id=str(client.workspaces[0].id),\n",
    "    settings=settings,\n",
    "    client=client,\n",
    ")"
   ]
  },
  {
   "cell_type": "code",
   "execution_count": 13,
   "metadata": {},
   "outputs": [],
   "source": [
    "dataset.publish()\n",
    "dataset.records.add(records=ds)"
   ]
  },
  {
   "cell_type": "markdown",
   "metadata": {},
   "source": [
    "# 3. Collecting the dataset"
   ]
  },
  {
   "cell_type": "code",
   "execution_count": 14,
   "metadata": {},
   "outputs": [
    {
     "data": {
      "text/plain": [
       "[{'external_id': UUID('23c024eb-e7c7-4d65-b13b-c9fd30ac7661'),\n",
       "  'text': 'I rented I AM CURIOUS-YELLOW from my video store because of all the controversy that surrounded it when it was first released in 1967. I also heard that at first it was seized by U.S. customs if it ever tried to enter this country, therefore being a fan of films considered \"controversial\" I really had to see this for myself.<br /><br />The plot is centered around a young Swedish drama student named Lena who wants to learn everything she can about life. In particular she wants to focus her attentions to making some sort of documentary on what the average Swede thought about certain political issues such as the Vietnam War and race issues in the United States. In between asking politicians and ordinary denizens of Stockholm about their opinions on politics, she has sex with her drama teacher, classmates, and married men.<br /><br />What kills me about I AM CURIOUS-YELLOW is that 40 years ago, this was considered pornographic. Really, the sex and nudity scenes are few and far between, even then it\\'s not shot like some cheaply made porno. While my countrymen mind find it shocking, in reality sex and nudity are a major staple in Swedish cinema. Even Ingmar Bergman, arguably their answer to good old boy John Ford, had sex scenes in his films.<br /><br />I do commend the filmmakers for the fact that any sex shown in the film is shown for artistic purposes rather than just to shock people and make money to be shown in pornographic theaters in America. I AM CURIOUS-YELLOW is a good film for anyone wanting to study the meat and potatoes (no pun intended) of Swedish cinema. But really, this film doesn\\'t have much of a plot.',\n",
       "  'label.suggestion': 'negative',\n",
       "  'label.score': None},\n",
       " {'external_id': UUID('0c358b68-6616-495c-ab74-62f35338ed76'),\n",
       "  'text': '\"I Am Curious: Yellow\" is a risible and pretentious steaming pile. It doesn\\'t matter what one\\'s political views are because this film can hardly be taken seriously on any level. As for the claim that frontal male nudity is an automatic NC-17, that isn\\'t true. I\\'ve seen R-rated films with male nudity. Granted, they only offer some fleeting views, but where are the R-rated films with gaping vulvas and flapping labia? Nowhere, because they don\\'t exist. The same goes for those crappy cable shows: schlongs swinging in the breeze but not a clitoris in sight. And those pretentious indie movies like The Brown Bunny, in which we\\'re treated to the site of Vincent Gallo\\'s throbbing johnson, but not a trace of pink visible on Chloe Sevigny. Before crying (or implying) \"double-standard\" in matters of nudity, the mentally obtuse should take into account one unavoidably obvious anatomical difference between men and women: there are no genitals on display when actresses appears nude, and the same cannot be said for a man. In fact, you generally won\\'t see female genitals in an American film in anything short of porn or explicit erotica. This alleged double-standard is less a double standard than an admittedly depressing ability to come to terms culturally with the insides of women\\'s bodies.',\n",
       "  'label.suggestion': 'negative',\n",
       "  'label.score': None},\n",
       " {'external_id': UUID('f615c74f-a88d-47ed-8a0d-82a735d6d9a4'),\n",
       "  'text': \"If only to avoid making this type of film in the future. This film is interesting as an experiment but tells no cogent story.<br /><br />One might feel virtuous for sitting thru it because it touches on so many IMPORTANT issues but it does so without any discernable motive. The viewer comes away with no new perspectives (unless one comes up with one while one's mind wanders, as it will invariably do during this pointless film).<br /><br />One might better spend one's time staring out a window at a tree growing.<br /><br />\",\n",
       "  'label.suggestion': 'negative',\n",
       "  'label.score': None},\n",
       " {'external_id': UUID('3f13c5ac-0c06-402e-bc3c-c4c38631fbbd'),\n",
       "  'text': \"This film was probably inspired by Godard's Masculin, féminin and I urge you to see that film instead.<br /><br />The film has two strong elements and those are, (1) the realistic acting (2) the impressive, undeservedly good, photo. Apart from that, what strikes me most is the endless stream of silliness. Lena Nyman has to be most annoying actress in the world. She acts so stupid and with all the nudity in this film,...it's unattractive. Comparing to Godard's film, intellectuality has been replaced with stupidity. Without going too far on this subject, I would say that follows from the difference in ideals between the French and the Swedish society.<br /><br />A movie of its time, and place. 2/10.\",\n",
       "  'label.suggestion': 'negative',\n",
       "  'label.score': None},\n",
       " {'external_id': UUID('5fa15106-37c6-48e9-9984-29b54fe9f920'),\n",
       "  'text': 'Oh, brother...after hearing about this ridiculous film for umpteen years all I can think of is that old Peggy Lee song..<br /><br />\"Is that all there is??\" ...I was just an early teen when this smoked fish hit the U.S. I was too young to get in the theater (although I did manage to sneak into \"Goodbye Columbus\"). Then a screening at a local film museum beckoned - Finally I could see this film, except now I was as old as my parents were when they schlepped to see it!!<br /><br />The ONLY reason this film was not condemned to the anonymous sands of time was because of the obscenity case sparked by its U.S. release. MILLIONS of people flocked to this stinker, thinking they were going to see a sex film...Instead, they got lots of closeups of gnarly, repulsive Swedes, on-street interviews in bland shopping malls, asinie political pretension...and feeble who-cares simulated sex scenes with saggy, pale actors.<br /><br />Cultural icon, holy grail, historic artifact..whatever this thing was, shred it, burn it, then stuff the ashes in a lead box!<br /><br />Elite esthetes still scrape to find value in its boring pseudo revolutionary political spewings..But if it weren\\'t for the censorship scandal, it would have been ignored, then forgotten.<br /><br />Instead, the \"I Am Blank, Blank\" rhythymed title was repeated endlessly for years as a titilation for porno films (I am Curious, Lavender - for gay films, I Am Curious, Black - for blaxploitation films, etc..) and every ten years or so the thing rises from the dead, to be viewed by a new generation of suckers who want to see that \"naughty sex film\" that \"revolutionized the film industry\"...<br /><br />Yeesh, avoid like the plague..Or if you MUST see it - rent the video and fast forward to the \"dirty\" parts, just to get it over with.<br /><br />',\n",
       "  'label.suggestion': 'negative',\n",
       "  'label.score': None}]"
      ]
     },
     "execution_count": 14,
     "metadata": {},
     "output_type": "execute_result"
    }
   ],
   "source": [
    "dataset.records.pull()\n",
    "records = dataset.records.to_list()\n",
    "records[:5]"
   ]
  }
 ],
 "metadata": {
  "kernelspec": {
   "display_name": ".venv",
   "language": "python",
   "name": "python3"
  },
  "language_info": {
   "codemirror_mode": {
    "name": "ipython",
    "version": 3
   },
   "file_extension": ".py",
   "mimetype": "text/x-python",
   "name": "python",
   "nbconvert_exporter": "python",
   "pygments_lexer": "ipython3",
   "version": "3.10.13"
  }
 },
 "nbformat": 4,
 "nbformat_minor": 2
}
