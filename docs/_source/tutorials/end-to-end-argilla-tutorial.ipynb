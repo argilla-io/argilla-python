{
 "cells": [
  {
   "cell_type": "markdown",
   "metadata": {},
   "source": [
    "# End to end tutorial for using the ne Argilla SDK\n",
    "\n",
    "This tutorial encomposses the full workflow of using the Argilla SDK to manage human feedback tasks. The main three areas are:\n",
    "\n",
    "1. **Setting up a project**:\n",
    "   - **Connecting to an Argilla server**:\n",
    "   - **Creating a workspace**:\n",
    "   - **Creating users**:\n",
    "2. **Creating a dataset**:\n",
    "   - **Defining the dataset's feedback task**:\n",
    "   - **Adding records to the dataset**:\n",
    "3. **Labelling the dataset**:\n",
    "   - **Assigning records to users**:\n",
    "   - **Adding suggestions and responses**:\n",
    "\n",
    "We will work through each of these areas and show three depths of control: A line, B line, and C line. The A line is the simplest and most abstracted, the B line is a bit more detailed, and the C line is the most detailed and flexible.\n"
   ]
  },
  {
   "cell_type": "code",
   "execution_count": 1,
   "metadata": {},
   "outputs": [],
   "source": [
    "import argilla_sdk as rg"
   ]
  },
  {
   "cell_type": "markdown",
   "metadata": {},
   "source": [
    "# 1. Setting up a project\n",
    "\n",
    "- Connecting to an Argilla server\n",
    "- Creating a workspace\n",
    "- Creating users\n"
   ]
  },
  {
   "cell_type": "markdown",
   "metadata": {},
   "source": [
    "## A line : _Setting up a project_ 🪫\n"
   ]
  },
  {
   "cell_type": "code",
   "execution_count": null,
   "metadata": {},
   "outputs": [],
   "source": [
    "# Connecting to an Argilla server\n",
    "# Creating a workspace\n",
    "# Creating users\n",
    "\n",
    "client = rg.Client(api_rul=\"http://localhost:6900\", api_key=\"admin.apikey\")\n",
    "# As now, the client creates a default workspace, user and role"
   ]
  },
  {
   "cell_type": "markdown",
   "metadata": {},
   "source": [
    "## B Line: _Setting up a project_ 🔋\n"
   ]
  },
  {
   "cell_type": "code",
   "execution_count": null,
   "metadata": {},
   "outputs": [],
   "source": [
    "# Connecting to an Argilla server\n",
    "client = rg.Client(api_rul=\"http://localhost:6900\", api_key=\"admin.apikey\")\n",
    "\n",
    "# Creating a workspace\n",
    "workspace = rg.Workspace(name=\"MyWorkspace\")\n",
    "client.workspace.create(workspace)\n",
    "\n",
    "# Creating users\n",
    "user = rg.User(name=\"John Doe\", role=\"admin\", workspace=workspace.name)\n",
    "client.user.create(user)"
   ]
  },
  {
   "cell_type": "markdown",
   "metadata": {},
   "source": [
    "## C line: _Setting up a project_ 🚀\n"
   ]
  },
  {
   "cell_type": "code",
   "execution_count": null,
   "metadata": {},
   "outputs": [],
   "source": [
    "# Connecting to an Argilla server\n",
    "local_client = rg.Client(api_rul=\"http://localhost:6900\", api_key=\"admin.apikey\")\n",
    "production_client = rg.Client(api_rul=\"http://argilla.production.net\", api_key=\"admin.apikey\")\n",
    "\n",
    "# Creating a workspace\n",
    "workspace = rg.Workspace(name=\"MyWorkspace\")\n",
    "local_client.workspace.create(workspace)🚀\n",
    "production_client.workspace.create(workspace)\n",
    "\n",
    "# Creating users\n",
    "user = rg.User(name=\"John Doe\", role=\"admin\", workspace=workspace.name)\n",
    "client.user.create(user)\n",
    "\n",
    "# We can take a user from a workspace and create it in another workspace\n",
    "user_from_local = client.user.get(name=\"John Doe\", workspace=local_client.workspace.name)\n",
    "production_client.user.create(user_from_local)"
   ]
  },
  {
   "cell_type": "markdown",
   "metadata": {},
   "source": [
    "# 2. Creating a dataset\n",
    "\n",
    "- Defining the dataset's feedback task\n",
    "- Adding records to the dataset\n"
   ]
  },
  {
   "cell_type": "code",
   "execution_count": 4,
   "metadata": {},
   "outputs": [],
   "source": [
    "import pandas as pd\n",
    "\n",
    "\n",
    "dataset_list = [{\"text\": \"Hello, world!\"}, {\"text\": \"I'm a sentence.\"}]\n",
    "\n",
    "dataset_dict = {\"text\": [\"Hello, world!\", \"I'm a sentence.\"]}\n",
    "\n",
    "dataset_df = pd.DataFrame(dataset_dict)"
   ]
  },
  {
   "cell_type": "markdown",
   "metadata": {},
   "source": [
    "## A line : _Creating a dataset_ 🪫\n"
   ]
  },
  {
   "cell_type": "code",
   "execution_count": null,
   "metadata": {},
   "outputs": [],
   "source": [
    "# Defining the dataset's feedback task\n",
    "# Adding records to the dataset\n",
    "\n",
    "dataset = rg.Dataset.from_list(dataset_list, name=\"MyListDataset\", field_keys=[\"text\"])\n",
    "client.dataset.create(dataset)\n",
    "# we raise an error if the dicts contain different keys\n",
    "\n",
    "dataset = rg.Dataset.from_dict(dataset_dict, name=\"MyDictDataset\", field_keys=[\"text\"])\n",
    "client.dataset.create(dataset)\n",
    "# we raise an error if the lists are different lengths\n",
    "\n",
    "dataset = rg.Dataset.from_df(dataset_df, name=\"MyDfDataset\", field_keys=[\"text\"])\n",
    "client.dataset.create(dataset)"
   ]
  },
  {
   "cell_type": "markdown",
   "metadata": {},
   "source": [
    "## B Line: _Creating a dataset_ 🔋\n"
   ]
  },
  {
   "cell_type": "code",
   "execution_count": null,
   "metadata": {},
   "outputs": [],
   "source": [
    "# Defining the dataset's feedback task\n",
    "\n",
    "template = rg.Template(\n",
    "    guidelines=\"Classify the articles into one of the four categories.\",\n",
    "    fields=[\n",
    "        rg.Field(name=\"text\", title=\"Text from the article\"),\n",
    "    ],\n",
    "    questions=[\n",
    "        rg.Question(\n",
    "            name=\"label\",\n",
    "            title=\"In which category does this article fit?\",\n",
    "            required=True,\n",
    "            settings=rg.QuestionSettings.MultiLabel(options=rg.LabelOption.from_labels([\"greeting\", \"statement\"])),\n",
    "        )\n",
    "    ],\n",
    ")\n",
    "\n",
    "# Adding records to the dataset\n",
    "dataset = rg.Dataset.from_list(dataset_list, name=\"MyListDataset\", template=template)\n",
    "client.dataset.create(dataset)"
   ]
  },
  {
   "cell_type": "markdown",
   "metadata": {},
   "source": [
    "## C line: _Creating a dataset_ 🚀\n"
   ]
  },
  {
   "cell_type": "code",
   "execution_count": null,
   "metadata": {},
   "outputs": [],
   "source": [
    "# Defining the dataset's feedback task\n",
    "\n",
    "template = rg.Template(\n",
    "    guidelines=\"Classify the articles into one of the four categories.\",\n",
    "    fields=[\n",
    "        rg.Field(name=\"text\", title=\"Text from the article\"),\n",
    "    ],\n",
    "    questions=[\n",
    "        rg.Question(\n",
    "            name=\"label\",\n",
    "            title=\"In which category does this article fit?\",\n",
    "            required=True,\n",
    "            settings=rg.QuestionSettings.MultiLabel(options=rg.LabelOption.from_labels([\"greeting\", \"statement\"])),\n",
    "        )\n",
    "    ],\n",
    ")\n",
    "\n",
    "dataset = rg.Dataset(name=\"MyListDataset\", template=template)\n",
    "\n",
    "# Adding records to the dataset\n",
    "for i, item in enumerate(ds):\n",
    "    dataset.records.add(\n",
    "        rg.Record(\n",
    "            fields={\n",
    "                \"text\": item[\"text\"],\n",
    "            },\n",
    "            external_id=f\"record-{i}\",\n",
    "        )\n",
    "    )\n",
    "\n",
    "client.dataset.create(dataset)"
   ]
  },
  {
   "cell_type": "markdown",
   "metadata": {},
   "source": [
    "# 3. Labelling the dataset\n",
    "\n",
    "- Assigning records to users\n",
    "- Adding suggestions and responses\n"
   ]
  },
  {
   "cell_type": "code",
   "execution_count": null,
   "metadata": {},
   "outputs": [],
   "source": [
    "suggestion_list = [{\"text\": \"Hello, world!\", \"label\": \"greeting\"}, {\"text\": \"I'm a sentence.\", \"label\": \"statement\"}]\n",
    "response_list = [{\"text\": \"Hello, world!\", \"label\": \"greeting\"}, {\"text\": \"I'm a sentence.\", \"label\": \"statement\"}]"
   ]
  },
  {
   "cell_type": "markdown",
   "metadata": {},
   "source": [
    "## A line: _Labelling the dataset_ 🪫\n"
   ]
  },
  {
   "cell_type": "code",
   "execution_count": null,
   "metadata": {},
   "outputs": [],
   "source": [
    "# Adding suggestions and responses\n",
    "dataset = dataset.suggestions.from_list(dataset_list)\n",
    "dataset = dataset.responses.from_list(dataset_list)\n",
    "client.datasetx.update(dataset)\n",
    "# we raise an error if the dicts contain different key"
   ]
  },
  {
   "cell_type": "code",
   "execution_count": null,
   "metadata": {},
   "outputs": [],
   "source": [
    "# Assigning records to user/users\n",
    "dataset = dataset.assign(groups=\"even_split\", overlap=1, shuffle=True)"
   ]
  },
  {
   "cell_type": "markdown",
   "metadata": {},
   "source": [
    "## B Line: _Labelling the dataset_ 🔋\n"
   ]
  },
  {
   "cell_type": "code",
   "execution_count": null,
   "metadata": {},
   "outputs": [],
   "source": [
    "# Assigning records to user/users\n",
    "james = rg.User(username=\"james\", password=\"jamesfish\")\n",
    "rashida = rg.User(username=\"rashida\", password=\"rashidaslizard\")\n",
    "dataset = dataset.assign(splits=[james, rashida], overlap=1, shuffle=True)\n",
    "client.dataset.update(dataset)"
   ]
  },
  {
   "cell_type": "code",
   "execution_count": null,
   "metadata": {},
   "outputs": [],
   "source": [
    "# Adding suggestions\n",
    "for record in dataset.records:\n",
    "    record.suggestions.add(\n",
    "        rg.Suggestion(\n",
    "            user=user,\n",
    "            fields={\n",
    "                \"label\": \"greeting\",\n",
    "            },\n",
    "        )\n",
    "    )\n",
    "\n",
    "# Adding responses\n",
    "for record in dataset.records:\n",
    "    record.responses.add(\n",
    "        rg.Response(\n",
    "            user=user,\n",
    "            fields={\n",
    "                \"label\": \"greeting\",\n",
    "            },\n",
    "        )\n",
    "    )\n",
    "\n",
    "client.datasets.update(dataset)"
   ]
  },
  {
   "cell_type": "markdown",
   "metadata": {},
   "source": [
    "## C line: _Labelling the dataset_ 🚀\n"
   ]
  },
  {
   "cell_type": "code",
   "execution_count": null,
   "metadata": {},
   "outputs": [],
   "source": [
    "# Assigning records to user/users\n",
    "tania = rg.User(username=\"tania\", password=\"taniascat\")\n",
    "bill = rg.User(username=\"jeroen\", password=\"jeroensdog\")\n",
    "armita = rg.User(username=\"armita\", password=\"amitasbird\")\n",
    "tim = rg.User(username=\"tim\", password=\"taniascat\")\n",
    "james = rg.User(username=\"james\", password=\"jamesfish\")\n",
    "rashida = rg.User(username=\"rashida\", password=\"rashidaslizard\")\n",
    "\n",
    "for user in [tania, bill, armita, tim, james, rashida]:\n",
    "    client.users.create(user)\n",
    "\n",
    "users_group_1 = [tania, bill, armita]\n",
    "users_group_2 = [tim, james, rashida]\n",
    "\n",
    "dataset = dataset.assign(splits=[users_group_1, users_group_2], overlap=1, shuffle=True)\n",
    "client.datasets.update(dataset)"
   ]
  },
  {
   "cell_type": "code",
   "execution_count": null,
   "metadata": {},
   "outputs": [],
   "source": [
    "# Adding suggestions\n",
    "for record in dataset.records:\n",
    "    record.suggestions.add(\n",
    "        rg.Suggestion(\n",
    "            user=user,\n",
    "            fields={\n",
    "                \"label\": \"greeting\",\n",
    "            },\n",
    "        )\n",
    "    )\n",
    "\n",
    "# Adding responses\n",
    "for record in dataset.records:\n",
    "    record.responses.add(\n",
    "        rg.Response(\n",
    "            user=user,\n",
    "            fields={\n",
    "                \"label\": \"greeting\",\n",
    "            },\n",
    "        )\n",
    "    )\n",
    "\n",
    "client.datasets.update(dataset)"
   ]
  }
 ],
 "metadata": {
  "kernelspec": {
   "display_name": ".venv",
   "language": "python",
   "name": "python3"
  },
  "language_info": {
   "codemirror_mode": {
    "name": "ipython",
    "version": 3
   },
   "file_extension": ".py",
   "mimetype": "text/x-python",
   "name": "python",
   "nbconvert_exporter": "python",
   "pygments_lexer": "ipython3",
   "version": "3.10.13"
  }
 },
 "nbformat": 4,
 "nbformat_minor": 2
}
