{
 "cells": [
  {
   "cell_type": "markdown",
   "metadata": {},
   "source": [
    "## Introduction\n",
    "\n",
    "Predictive models are cheap, predictable, scalable and easy to use, therefore they are still widely used in many industries. However, the quality of the predictions depends on the quality of the data used to train the model, which can be a challenge to obtain. In order to make labelling data easier, Argilla provides a vector-based approach to data labelling, which allows you to quickly label data in bulk. On top of that, few-shot learning can be used to fine-tune models with a smaller amount of labelled data. Therefore the goal of this tutorial is to show you how to prepare use Argilla to label data in bulk, and use that data with few-shot learning to fine-tune a model.\n",
    "\n",
    "In this tutorial, you will learn to:\n",
    "\n",
    "- Publish dataset\n",
    "- Add records to a dataset\n",
    "- Update records with vectors\n",
    "- Use bulk labeling to label data\n",
    "- Fine-tune a text classification model\n",
    "- Add model suggestion to a dataset\n",
    "\n",
    "??? note \"used libraries\"\n",
    "    - [Sentence Transformers](https://github.com/UKPLab/sentence-transformers) is the Python library that will be used to obtain our vectors. It is a library that allows you to use pre-trained transformer models to encode text into vectors.\n",
    "    - [SetFit](https://github.com/huggingface/setfit) is the Python library that will be used to fine-tune our model. It is a library that allows you to fine-tune a model with a smaller amount of labelled data.\n",
    "\n",
    "??? note \"used dataset\"\n",
    "    [Sentence Transformers](https://github.com/UKPLab/sentence-transformers) is the Python library that will be used to obtain our vectors. It is a library that allows you to use pre-trained transformer models to encode text into vectors.\n",
    "    [SetFit](https://github.com/huggingface/setfit) is the Python library that will be used to fine-tune our model. It is a library that allows you to fine-tune a model with a smaller amount of labelled data."
   ]
  },
  {
   "cell_type": "markdown",
   "metadata": {},
   "source": [
    "## Setup\n",
    "\n",
    "### Installation\n",
    "\n",
    "We assume that you've already installed and deployed Argilla. If you haven't, please follow the instructions in the [installation documentation](/argilla-python/getting_started/installation/).\n",
    "\n",
    "To install the required libraries, run the following command:"
   ]
  },
  {
   "cell_type": "code",
   "execution_count": 1,
   "metadata": {
    "vscode": {
     "languageId": "bat"
    }
   },
   "outputs": [
    {
     "name": "stdout",
     "output_type": "stream",
     "text": [
      "Looking in indexes: https://pypi.org/simple, https://dmrepository.datamaran.com:8443/repository/dmPYTHON/simple\n",
      "Collecting sentence-transformers\n",
      "  Downloading https://dmrepository.datamaran.com:8443/repository/dmPYTHON/packages/sentence-transformers/3.0.0/sentence_transformers-3.0.0-py3-none-any.whl (224 kB)\n",
      "\u001b[2K     \u001b[90m━━━━━━━━━━━━━━━━━━━━━━━━━━━━━━━━━━━━━━━\u001b[0m \u001b[32m224.7/224.7 kB\u001b[0m \u001b[31m1.7 MB/s\u001b[0m eta \u001b[36m0:00:00\u001b[0ma \u001b[36m0:00:01\u001b[0m\n",
      "\u001b[?25hCollecting setfit\n",
      "  Using cached https://dmrepository.datamaran.com:8443/repository/dmPYTHON/packages/setfit/1.0.3/setfit-1.0.3-py3-none-any.whl (75 kB)\n",
      "Requirement already satisfied: tqdm in /Users/davidberenstein/Documents/programming/argilla/argilla-python/.venv/lib/python3.10/site-packages (from sentence-transformers) (4.66.4)\n",
      "Requirement already satisfied: numpy in /Users/davidberenstein/Documents/programming/argilla/argilla-python/.venv/lib/python3.10/site-packages (from sentence-transformers) (1.26.4)\n",
      "Collecting scipy\n",
      "  Downloading https://dmrepository.datamaran.com:8443/repository/dmPYTHON/packages/scipy/1.13.1/scipy-1.13.1-cp310-cp310-macosx_12_0_arm64.whl (30.3 MB)\n",
      "\u001b[2K     \u001b[90m━━━━━━━━━━━━━━━━━━━━━━━━━━━━━━━━━━━━━━━━\u001b[0m \u001b[32m30.3/30.3 MB\u001b[0m \u001b[31m13.2 MB/s\u001b[0m eta \u001b[36m0:00:00\u001b[0m00:01\u001b[0m00:01\u001b[0m\n",
      "\u001b[?25hCollecting transformers<5.0.0,>=4.34.0\n",
      "  Downloading https://dmrepository.datamaran.com:8443/repository/dmPYTHON/packages/transformers/4.41.1/transformers-4.41.1-py3-none-any.whl (9.1 MB)\n",
      "\u001b[2K     \u001b[90m━━━━━━━━━━━━━━━━━━━━━━━━━━━━━━━━━━━━━━━━\u001b[0m \u001b[32m9.1/9.1 MB\u001b[0m \u001b[31m13.1 MB/s\u001b[0m eta \u001b[36m0:00:00\u001b[0m00:01\u001b[0m00:01\u001b[0m\n",
      "\u001b[?25hRequirement already satisfied: huggingface-hub>=0.15.1 in /Users/davidberenstein/Documents/programming/argilla/argilla-python/.venv/lib/python3.10/site-packages (from sentence-transformers) (0.23.2)\n",
      "Collecting torch>=1.11.0\n",
      "  Downloading https://dmrepository.datamaran.com:8443/repository/dmPYTHON/packages/torch/2.3.0/torch-2.3.0-cp310-none-macosx_11_0_arm64.whl (61.0 MB)\n",
      "\u001b[2K     \u001b[90m━━━━━━━━━━━━━━━━━━━━━━━━━━━━━━━━━━━━━━━━\u001b[0m \u001b[32m61.0/61.0 MB\u001b[0m \u001b[31m14.9 MB/s\u001b[0m eta \u001b[36m0:00:00\u001b[0m00:01\u001b[0m00:01\u001b[0m\n",
      "\u001b[?25hCollecting scikit-learn\n",
      "  Downloading https://dmrepository.datamaran.com:8443/repository/dmPYTHON/packages/scikit-learn/1.5.0/scikit_learn-1.5.0-cp310-cp310-macosx_12_0_arm64.whl (11.0 MB)\n",
      "\u001b[2K     \u001b[90m━━━━━━━━━━━━━━━━━━━━━━━━━━━━━━━━━━━━━━━━\u001b[0m \u001b[32m11.0/11.0 MB\u001b[0m \u001b[31m16.7 MB/s\u001b[0m eta \u001b[36m0:00:00\u001b[0ma \u001b[36m0:00:01\u001b[0m\n",
      "\u001b[?25hRequirement already satisfied: Pillow in /Users/davidberenstein/Documents/programming/argilla/argilla-python/.venv/lib/python3.10/site-packages (from sentence-transformers) (10.2.0)\n",
      "Requirement already satisfied: datasets>=2.3.0 in /Users/davidberenstein/Documents/programming/argilla/argilla-python/.venv/lib/python3.10/site-packages (from setfit) (2.19.1)\n",
      "Requirement already satisfied: packaging in /Users/davidberenstein/Documents/programming/argilla/argilla-python/.venv/lib/python3.10/site-packages (from setfit) (24.0)\n",
      "Collecting evaluate>=0.3.0\n",
      "  Downloading https://dmrepository.datamaran.com:8443/repository/dmPYTHON/packages/evaluate/0.4.2/evaluate-0.4.2-py3-none-any.whl (84 kB)\n",
      "\u001b[2K     \u001b[90m━━━━━━━━━━━━━━━━━━━━━━━━━━━━━━━━━━━━━━━━\u001b[0m \u001b[32m84.1/84.1 kB\u001b[0m \u001b[31m11.8 MB/s\u001b[0m eta \u001b[36m0:00:00\u001b[0m\n",
      "\u001b[?25hRequirement already satisfied: fsspec[http]<=2024.3.1,>=2023.1.0 in /Users/davidberenstein/Documents/programming/argilla/argilla-python/.venv/lib/python3.10/site-packages (from datasets>=2.3.0->setfit) (2024.3.1)\n",
      "Requirement already satisfied: pandas in /Users/davidberenstein/Documents/programming/argilla/argilla-python/.venv/lib/python3.10/site-packages (from datasets>=2.3.0->setfit) (2.2.2)\n",
      "Requirement already satisfied: xxhash in /Users/davidberenstein/Documents/programming/argilla/argilla-python/.venv/lib/python3.10/site-packages (from datasets>=2.3.0->setfit) (3.4.1)\n",
      "Requirement already satisfied: requests>=2.19.0 in /Users/davidberenstein/Documents/programming/argilla/argilla-python/.venv/lib/python3.10/site-packages (from datasets>=2.3.0->setfit) (2.31.0)\n",
      "Requirement already satisfied: filelock in /Users/davidberenstein/Documents/programming/argilla/argilla-python/.venv/lib/python3.10/site-packages (from datasets>=2.3.0->setfit) (3.13.1)\n",
      "Requirement already satisfied: pyarrow>=12.0.0 in /Users/davidberenstein/Documents/programming/argilla/argilla-python/.venv/lib/python3.10/site-packages (from datasets>=2.3.0->setfit) (16.1.0)\n",
      "Requirement already satisfied: aiohttp in /Users/davidberenstein/Documents/programming/argilla/argilla-python/.venv/lib/python3.10/site-packages (from datasets>=2.3.0->setfit) (3.9.5)\n",
      "Requirement already satisfied: dill<0.3.9,>=0.3.0 in /Users/davidberenstein/Documents/programming/argilla/argilla-python/.venv/lib/python3.10/site-packages (from datasets>=2.3.0->setfit) (0.3.8)\n",
      "Requirement already satisfied: pyyaml>=5.1 in /Users/davidberenstein/Documents/programming/argilla/argilla-python/.venv/lib/python3.10/site-packages (from datasets>=2.3.0->setfit) (6.0.1)\n",
      "Requirement already satisfied: pyarrow-hotfix in /Users/davidberenstein/Documents/programming/argilla/argilla-python/.venv/lib/python3.10/site-packages (from datasets>=2.3.0->setfit) (0.6)\n",
      "Requirement already satisfied: multiprocess in /Users/davidberenstein/Documents/programming/argilla/argilla-python/.venv/lib/python3.10/site-packages (from datasets>=2.3.0->setfit) (0.70.16)\n",
      "Requirement already satisfied: typing-extensions>=3.7.4.3 in /Users/davidberenstein/Documents/programming/argilla/argilla-python/.venv/lib/python3.10/site-packages (from huggingface-hub>=0.15.1->sentence-transformers) (4.10.0)\n",
      "Collecting networkx\n",
      "  Using cached https://dmrepository.datamaran.com:8443/repository/dmPYTHON/packages/networkx/3.3/networkx-3.3-py3-none-any.whl (1.7 MB)\n",
      "Requirement already satisfied: jinja2 in /Users/davidberenstein/Documents/programming/argilla/argilla-python/.venv/lib/python3.10/site-packages (from torch>=1.11.0->sentence-transformers) (3.1.3)\n",
      "Collecting sympy\n",
      "  Using cached https://dmrepository.datamaran.com:8443/repository/dmPYTHON/packages/sympy/1.12/sympy-1.12-py3-none-any.whl (5.7 MB)\n",
      "Requirement already satisfied: regex!=2019.12.17 in /Users/davidberenstein/Documents/programming/argilla/argilla-python/.venv/lib/python3.10/site-packages (from transformers<5.0.0,>=4.34.0->sentence-transformers) (2023.12.25)\n",
      "Collecting tokenizers<0.20,>=0.19\n",
      "  Downloading https://dmrepository.datamaran.com:8443/repository/dmPYTHON/packages/tokenizers/0.19.1/tokenizers-0.19.1-cp310-cp310-macosx_11_0_arm64.whl (2.4 MB)\n",
      "\u001b[2K     \u001b[90m━━━━━━━━━━━━━━━━━━━━━━━━━━━━━━━━━━━━━━━━\u001b[0m \u001b[32m2.4/2.4 MB\u001b[0m \u001b[31m14.4 MB/s\u001b[0m eta \u001b[36m0:00:00\u001b[0ma \u001b[36m0:00:01\u001b[0m\n",
      "\u001b[?25hCollecting safetensors>=0.4.1\n",
      "  Downloading https://dmrepository.datamaran.com:8443/repository/dmPYTHON/packages/safetensors/0.4.3/safetensors-0.4.3-cp310-cp310-macosx_11_0_arm64.whl (410 kB)\n",
      "\u001b[2K     \u001b[90m━━━━━━━━━━━━━━━━━━━━━━━━━━━━━━━━━━━━━━━\u001b[0m \u001b[32m410.9/410.9 kB\u001b[0m \u001b[31m8.4 MB/s\u001b[0m eta \u001b[36m0:00:00\u001b[0ma \u001b[36m0:00:01\u001b[0m\n",
      "\u001b[?25hCollecting threadpoolctl>=3.1.0\n",
      "  Using cached https://dmrepository.datamaran.com:8443/repository/dmPYTHON/packages/threadpoolctl/3.5.0/threadpoolctl-3.5.0-py3-none-any.whl (18 kB)\n",
      "Collecting joblib>=1.2.0\n",
      "  Downloading https://dmrepository.datamaran.com:8443/repository/dmPYTHON/packages/joblib/1.4.2/joblib-1.4.2-py3-none-any.whl (301 kB)\n",
      "\u001b[2K     \u001b[90m━━━━━━━━━━━━━━━━━━━━━━━━━━━━━━━━━━━━━━\u001b[0m \u001b[32m301.8/301.8 kB\u001b[0m \u001b[31m14.6 MB/s\u001b[0m eta \u001b[36m0:00:00\u001b[0m\n",
      "\u001b[?25hRequirement already satisfied: async-timeout<5.0,>=4.0 in /Users/davidberenstein/Documents/programming/argilla/argilla-python/.venv/lib/python3.10/site-packages (from aiohttp->datasets>=2.3.0->setfit) (4.0.3)\n",
      "Requirement already satisfied: attrs>=17.3.0 in /Users/davidberenstein/Documents/programming/argilla/argilla-python/.venv/lib/python3.10/site-packages (from aiohttp->datasets>=2.3.0->setfit) (23.2.0)\n",
      "Requirement already satisfied: multidict<7.0,>=4.5 in /Users/davidberenstein/Documents/programming/argilla/argilla-python/.venv/lib/python3.10/site-packages (from aiohttp->datasets>=2.3.0->setfit) (6.0.5)\n",
      "Requirement already satisfied: yarl<2.0,>=1.0 in /Users/davidberenstein/Documents/programming/argilla/argilla-python/.venv/lib/python3.10/site-packages (from aiohttp->datasets>=2.3.0->setfit) (1.9.4)\n",
      "Requirement already satisfied: aiosignal>=1.1.2 in /Users/davidberenstein/Documents/programming/argilla/argilla-python/.venv/lib/python3.10/site-packages (from aiohttp->datasets>=2.3.0->setfit) (1.3.1)\n",
      "Requirement already satisfied: frozenlist>=1.1.1 in /Users/davidberenstein/Documents/programming/argilla/argilla-python/.venv/lib/python3.10/site-packages (from aiohttp->datasets>=2.3.0->setfit) (1.4.1)\n",
      "Requirement already satisfied: urllib3<3,>=1.21.1 in /Users/davidberenstein/Documents/programming/argilla/argilla-python/.venv/lib/python3.10/site-packages (from requests>=2.19.0->datasets>=2.3.0->setfit) (2.2.1)\n",
      "Requirement already satisfied: charset-normalizer<4,>=2 in /Users/davidberenstein/Documents/programming/argilla/argilla-python/.venv/lib/python3.10/site-packages (from requests>=2.19.0->datasets>=2.3.0->setfit) (3.3.2)\n",
      "Requirement already satisfied: idna<4,>=2.5 in /Users/davidberenstein/Documents/programming/argilla/argilla-python/.venv/lib/python3.10/site-packages (from requests>=2.19.0->datasets>=2.3.0->setfit) (3.6)\n",
      "Requirement already satisfied: certifi>=2017.4.17 in /Users/davidberenstein/Documents/programming/argilla/argilla-python/.venv/lib/python3.10/site-packages (from requests>=2.19.0->datasets>=2.3.0->setfit) (2024.2.2)\n",
      "Requirement already satisfied: MarkupSafe>=2.0 in /Users/davidberenstein/Documents/programming/argilla/argilla-python/.venv/lib/python3.10/site-packages (from jinja2->torch>=1.11.0->sentence-transformers) (2.1.5)\n",
      "Requirement already satisfied: pytz>=2020.1 in /Users/davidberenstein/Documents/programming/argilla/argilla-python/.venv/lib/python3.10/site-packages (from pandas->datasets>=2.3.0->setfit) (2024.1)\n",
      "Requirement already satisfied: tzdata>=2022.7 in /Users/davidberenstein/Documents/programming/argilla/argilla-python/.venv/lib/python3.10/site-packages (from pandas->datasets>=2.3.0->setfit) (2024.1)\n",
      "Requirement already satisfied: python-dateutil>=2.8.2 in /Users/davidberenstein/Documents/programming/argilla/argilla-python/.venv/lib/python3.10/site-packages (from pandas->datasets>=2.3.0->setfit) (2.9.0.post0)\n",
      "Collecting mpmath>=0.19\n",
      "  Using cached https://dmrepository.datamaran.com:8443/repository/dmPYTHON/packages/mpmath/1.3.0/mpmath-1.3.0-py3-none-any.whl (536 kB)\n",
      "Requirement already satisfied: six>=1.5 in /Users/davidberenstein/Documents/programming/argilla/argilla-python/.venv/lib/python3.10/site-packages (from python-dateutil>=2.8.2->pandas->datasets>=2.3.0->setfit) (1.16.0)\n",
      "Installing collected packages: mpmath, threadpoolctl, sympy, scipy, safetensors, networkx, joblib, torch, scikit-learn, tokenizers, transformers, sentence-transformers, evaluate, setfit\n",
      "Successfully installed evaluate-0.4.2 joblib-1.4.2 mpmath-1.3.0 networkx-3.3 safetensors-0.4.3 scikit-learn-1.5.0 scipy-1.13.1 sentence-transformers-3.0.0 setfit-1.0.3 sympy-1.12 threadpoolctl-3.5.0 tokenizers-0.19.1 torch-2.3.0 transformers-4.41.1\n",
      "\n",
      "\u001b[1m[\u001b[0m\u001b[34;49mnotice\u001b[0m\u001b[1;39;49m]\u001b[0m\u001b[39;49m A new release of pip available: \u001b[0m\u001b[31;49m22.2.1\u001b[0m\u001b[39;49m -> \u001b[0m\u001b[32;49m24.0\u001b[0m\n",
      "\u001b[1m[\u001b[0m\u001b[34;49mnotice\u001b[0m\u001b[1;39;49m]\u001b[0m\u001b[39;49m To update, run: \u001b[0m\u001b[32;49mpip install --upgrade pip\u001b[0m\n"
     ]
    }
   ],
   "source": [
    "!pip install sentence-transformers setfit"
   ]
  },
  {
   "cell_type": "markdown",
   "metadata": {},
   "source": [
    "### Imports\n"
   ]
  },
  {
   "cell_type": "code",
   "execution_count": null,
   "metadata": {},
   "outputs": [],
   "source": [
    "import argilla_sdk as rg\n",
    "from sentence_transformers import SentenceTransformer\n",
    "from setfit import SetFitModel, SetFitTrainer"
   ]
  },
  {
   "cell_type": "markdown",
   "metadata": {},
   "source": [
    "## Application\n",
    "\n",
    "### Publish dataset\n",
    "\n",
    "We will start by publishing a dataset. This dataset will be used to store the data that we will label in bulk.\n"
   ]
  },
  {
   "cell_type": "code",
   "execution_count": null,
   "metadata": {},
   "outputs": [],
   "source": [
    "ds = rg.Settings(\n",
    "    fields=[\n",
    "        rg.TextField(\n",
    "            name='text',\n",
    "            required=True,\n",
    "            description='Text to be classified',\n",
    "            use_markdown=False\n",
    "        )\n",
    "    ],\n",
    "    questions=[\n",
    "        rg.LabelQuestion(\n",
    "            name='label',\n",
    "            description='Label of the text',\n",
    "            options=['positive', 'negative', 'neutral']\n",
    "        )\n",
    "    ],\n",
    "    vectors=[\n",
    "        rg.VectorField(\n",
    "            name='vector',\n",
    "            dimensions=768,\n",
    "            description='Vector representation of the text'\n",
    "        )\n",
    "    ]\n",
    ")"
   ]
  },
  {
   "cell_type": "markdown",
   "metadata": {},
   "source": [
    "### Add records to a dataset"
   ]
  },
  {
   "cell_type": "markdown",
   "metadata": {},
   "source": [
    "### Update records with vectors"
   ]
  },
  {
   "cell_type": "markdown",
   "metadata": {},
   "source": [
    "### Use bulk labeling to label data"
   ]
  },
  {
   "cell_type": "markdown",
   "metadata": {},
   "source": [
    "### Fine-tune a text classification model"
   ]
  },
  {
   "cell_type": "markdown",
   "metadata": {},
   "source": [
    "### Add model suggestion to a dataset"
   ]
  },
  {
   "cell_type": "markdown",
   "metadata": {},
   "source": [
    "## Conclusion"
   ]
  }
 ],
 "metadata": {
  "kernelspec": {
   "display_name": ".venv",
   "language": "python",
   "name": "python3"
  },
  "language_info": {
   "codemirror_mode": {
    "name": "ipython",
    "version": 3
   },
   "file_extension": ".py",
   "mimetype": "text/x-python",
   "name": "python",
   "nbconvert_exporter": "python",
   "pygments_lexer": "ipython3",
   "version": "3.10.6"
  }
 },
 "nbformat": 4,
 "nbformat_minor": 2
}
